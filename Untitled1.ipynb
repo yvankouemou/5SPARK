{
 "cells": [
  {
   "cell_type": "code",
   "execution_count": 25,
   "id": "c71fc41e-e040-44c2-b893-00d90025efa5",
   "metadata": {},
   "outputs": [
    {
     "name": "stdout",
     "output_type": "stream",
     "text": [
      "+---+-------+----------+-------+--------+----------------+-------------+\n",
      "| id|content|created_at|account|hashtags|favourites_count|reblogs_count|\n",
      "+---+-------+----------+-------+--------+----------------+-------------+\n",
      "+---+-------+----------+-------+--------+----------------+-------------+\n",
      "\n"
     ]
    }
   ],
   "source": [
    "# Importation des bibliothèques nécessaires\n",
    "import os\n",
    "import findspark\n",
    "from pyspark.sql import SparkSession\n",
    "from pyspark.sql.functions import from_json, col\n",
    "from pyspark.sql.types import StructType, StructField, StringType, ArrayType, LongType\n",
    "\n",
    "# Initialisation de findspark\n",
    "findspark.init()\n",
    "\n",
    "# Créer la session Spark\n",
    "spark = SparkSession.builder \\\n",
    "    .appName(\"MastodonStreamProcessing\") \\\n",
    "    .config(\"spark.jars.packages\", \"org.apache.spark:spark-sql-kafka-0-10_2.12:3.5.3\") \\\n",
    "    .getOrCreate()\n",
    "\n",
    "# Schéma des toots pour interpréter les messages Kafka\n",
    "schema = StructType([\n",
    "    StructField(\"id\", LongType(), True),\n",
    "    StructField(\"content\", StringType(), True),\n",
    "    StructField(\"created_at\", StringType(), True),\n",
    "    StructField(\"account\", StringType(), True),\n",
    "    StructField(\"hashtags\", ArrayType(StringType()), True),\n",
    "    StructField(\"favourites_count\", LongType(), True),\n",
    "    StructField(\"reblogs_count\", LongType(), True)\n",
    "])\n",
    "\n",
    "# Lire les données de Kafka en mode streaming\n",
    "df = spark \\\n",
    "    .readStream \\\n",
    "    .format(\"kafka\") \\\n",
    "    .option(\"kafka.bootstrap.servers\", \"localhost:9092\") \\\n",
    "    .option(\"subscribe\", \"mastodon_stream\") \\\n",
    "    .load()\n",
    "\n",
    "# Transformation des données\n",
    "df = df.selectExpr(\"CAST(value AS STRING)\")\n",
    "\n",
    "# Transformation des données pour correspondre au schéma\n",
    "toots_df = df.select(from_json(col(\"value\"), schema).alias(\"toot\")).select(\"toot.*\")\n",
    "\n",
    "# Affichage des données en streaming dans une table mémoire\n",
    "query = toots_df.writeStream \\\n",
    "    .outputMode(\"append\") \\\n",
    "    .format(\"memory\") \\\n",
    "    .queryName(\"toots\") \\\n",
    "    .start()\n",
    "\n",
    "# Assurez-vous que le streaming est en cours\n",
    "query.awaitTermination(60)  # Exécutez pendant 5 secondes pour le test\n",
    "\n",
    "# Afficher les données à partir de la table\n",
    "spark.sql(\"SELECT * FROM toots\").show(5)  # Affichez les résultats en utilisant SQL\n",
    "\n",
    "# Une fois terminé, arrêtez la requête\n",
    "query.stop()\n"
   ]
  },
  {
   "cell_type": "code",
   "execution_count": 20,
   "id": "681e5dc3-5138-4974-b10a-c3bba8fd2e9b",
   "metadata": {},
   "outputs": [
    {
     "name": "stdout",
     "output_type": "stream",
     "text": [
      "Collecting findspark\n",
      "  Downloading findspark-2.0.1-py2.py3-none-any.whl.metadata (352 bytes)\n",
      "Downloading findspark-2.0.1-py2.py3-none-any.whl (4.4 kB)\n",
      "Installing collected packages: findspark\n",
      "Successfully installed findspark-2.0.1\n"
     ]
    }
   ],
   "source": [
    "\n",
    "!pip install findspark"
   ]
  },
  {
   "cell_type": "code",
   "execution_count": 27,
   "id": "927eab6b-7cd8-467f-80f0-039107d41360",
   "metadata": {},
   "outputs": [
    {
     "name": "stdout",
     "output_type": "stream",
     "text": [
      "+---+-------+----------+-------+--------+----------------+-------------+\n",
      "| id|content|created_at|account|hashtags|favourites_count|reblogs_count|\n",
      "+---+-------+----------+-------+--------+----------------+-------------+\n",
      "+---+-------+----------+-------+--------+----------------+-------------+\n",
      "\n"
     ]
    },
    {
     "ename": "NameError",
     "evalue": "name 'time' is not defined",
     "output_type": "error",
     "traceback": [
      "\u001b[0;31m---------------------------------------------------------------------------\u001b[0m",
      "\u001b[0;31mNameError\u001b[0m                                 Traceback (most recent call last)",
      "Cell \u001b[0;32mIn[27], line 4\u001b[0m\n\u001b[1;32m      2\u001b[0m \u001b[38;5;28;01mfor\u001b[39;00m _ \u001b[38;5;129;01min\u001b[39;00m \u001b[38;5;28mrange\u001b[39m(\u001b[38;5;241m5\u001b[39m):  \u001b[38;5;66;03m# Essayez plusieurs fois pour voir les nouvelles données\u001b[39;00m\n\u001b[1;32m      3\u001b[0m     spark\u001b[38;5;241m.\u001b[39msql(\u001b[38;5;124m\"\u001b[39m\u001b[38;5;124mSELECT * FROM toots\u001b[39m\u001b[38;5;124m\"\u001b[39m)\u001b[38;5;241m.\u001b[39mshow(\u001b[38;5;241m5\u001b[39m)\n\u001b[0;32m----> 4\u001b[0m     \u001b[43mtime\u001b[49m\u001b[38;5;241m.\u001b[39msleep(\u001b[38;5;241m2\u001b[39m)  \u001b[38;5;66;03m# Attendre 2 secondes entre les requêtes\u001b[39;00m\n",
      "\u001b[0;31mNameError\u001b[0m: name 'time' is not defined"
     ]
    }
   ],
   "source": [
    "# Afficher les données à partir de la table après un certain temps\n",
    "for _ in range(5):  # Essayez plusieurs fois pour voir les nouvelles données\n",
    "    spark.sql(\"SELECT * FROM toots\").show(5)\n",
    "    time.sleep(2)  # Attendre 2 secondes entre les requêtes\n"
   ]
  },
  {
   "cell_type": "code",
   "execution_count": null,
   "id": "4ebc18ab-3248-4b23-8fc9-0c7ff61be40e",
   "metadata": {},
   "outputs": [],
   "source": []
  }
 ],
 "metadata": {
  "kernelspec": {
   "display_name": "Python 3 (ipykernel)",
   "language": "python",
   "name": "python3"
  },
  "language_info": {
   "codemirror_mode": {
    "name": "ipython",
    "version": 3
   },
   "file_extension": ".py",
   "mimetype": "text/x-python",
   "name": "python",
   "nbconvert_exporter": "python",
   "pygments_lexer": "ipython3",
   "version": "3.11.6"
  }
 },
 "nbformat": 4,
 "nbformat_minor": 5
}
