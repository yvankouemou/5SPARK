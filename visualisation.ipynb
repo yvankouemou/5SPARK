{
 "cells": [
  {
   "cell_type": "code",
   "execution_count": null,
   "id": "368db358-4ee5-4cad-a6f2-5d4b7286ef74",
   "metadata": {},
   "outputs": [],
   "source": [
    "import matplotlib.pyplot as plt\n",
    "import seaborn as sns\n",
    "\n",
    "# Visualiser la répartition des sentiments\n",
    "sentiment_counts = predictions.groupBy(\"prediction\").count().toPandas()\n",
    "sentiment_counts.columns = ['Sentiment', 'Count']\n",
    "\n",
    "plt.figure(figsize=(8, 5))\n",
    "sns.barplot(x='Sentiment', y='Count', data=sentiment_counts)\n",
    "plt.title('Répartition des sentiments des toots')\n",
    "plt.xlabel('Sentiment')\n",
    "plt.ylabel('Nombre de toots')\n",
    "plt.show()\n",
    "\n",
    "# Visualiser la fréquence des toots au fil du temps\n",
    "time_series_counts = historical_df.groupBy(F.window(F.col(\"timestamp\"), \"1 hour\")).count()\n",
    "time_series_df = time_series_counts.toPandas()\n",
    "\n",
    "plt.figure(figsize=(10, 6))\n",
    "plt.plot(time_series_df['window'], time_series_df['count'])\n",
    "plt.title('Fréquence des toots au fil du temps')\n",
    "plt.xlabel('Temps')\n",
    "plt.ylabel('Nombre de toots')\n",
    "plt.xticks(rotation=45)\n",
    "plt.tight_layout()\n",
    "plt.show()"
   ]
  }
 ],
 "metadata": {
  "kernelspec": {
   "display_name": "Python 3 (ipykernel)",
   "language": "python",
   "name": "python3"
  },
  "language_info": {
   "codemirror_mode": {
    "name": "ipython",
    "version": 3
   },
   "file_extension": ".py",
   "mimetype": "text/x-python",
   "name": "python",
   "nbconvert_exporter": "python",
   "pygments_lexer": "ipython3",
   "version": "3.11.6"
  }
 },
 "nbformat": 4,
 "nbformat_minor": 5
}
