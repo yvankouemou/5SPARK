{
 "cells": [
  {
   "cell_type": "code",
   "execution_count": 24,
   "id": "6b2aaa27-75b2-4509-b4a6-40bddd747938",
   "metadata": {},
   "outputs": [],
   "source": [
    "from pyspark.sql import SparkSession\n",
    "from pyspark.sql.functions import from_json, col, window, length, avg, count\n",
    "from pyspark.sql.types import StructType, StructField, StringType, IntegerType, ArrayType\n",
    "\n",
    "# Création de la session Spark\n",
    "spark = SparkSession.builder \\\n",
    "    .appName(\"Kafka Stream Example\") \\\n",
    "    .config(\"spark.jars.packages\", \"org.apache.spark:spark-sql-kafka-0-10_2.12:3.2.0\") \\\n",
    "    .getOrCreate()\n",
    "\n",
    "\n",
    "# Schéma des données JSON reçues depuis Kafka\n",
    "schema = StructType([\n",
    "    StructField(\"user\", StringType(), True),\n",
    "    StructField(\"timestamp\", StringType(), True),\n",
    "    StructField(\"content\", StringType(), True),\n",
    "    StructField(\"hashtags\", ArrayType(StringType()), True),\n",
    "    StructField(\"favourites_count\", IntegerType(), True),\n",
    "    StructField(\"reblogs_count\", IntegerType(), True)\n",
    "])"
   ]
  },
  {
   "cell_type": "code",
   "execution_count": 25,
   "id": "4dd76152-0165-41ea-a3ab-2897352f2b20",
   "metadata": {},
   "outputs": [],
   "source": [
    "# Configuration du topic Kafka et des serveurs\n",
    "kafka_topic = \"message_kafka\"\n",
    "kafka_bootstrap_servers = \"localhost:9092\"\n",
    "\n",
    "# Lecture du flux depuis Kafka\n",
    "df = spark.readStream \\\n",
    "    .format(\"kafka\") \\\n",
    "    .option(\"kafka.bootstrap.servers\", kafka_bootstrap_servers) \\\n",
    "    .option(\"subscribe\", kafka_topic) \\\n",
    "    .option(\"kafka.request.timeout.ms\", \"120000\") \\\n",
    "    .load()"
   ]
  },
  {
   "cell_type": "code",
   "execution_count": 26,
   "id": "8b41ecde-2ea7-4c90-b2af-7279810fe3a6",
   "metadata": {},
   "outputs": [],
   "source": [
    "# Transformation des données JSON\n",
    "structured_df = df.selectExpr(\"CAST(value AS STRING) AS json_value\") \\\n",
    "    .select(from_json(col(\"json_value\"), schema).alias(\"data\")) \\\n",
    "    .select(\"data.*\")"
   ]
  },
  {
   "cell_type": "code",
   "execution_count": 27,
   "id": "2eae4301-6bd2-4ac5-b28b-2e3ff67ca211",
   "metadata": {},
   "outputs": [],
   "source": [
    "# Transformation 2 : Regrouper par fenêtres temporelles\n",
    "windowed_df = structured_df.withColumn(\"timestamp\", col(\"timestamp\").cast(\"timestamp\")) \\\n",
    "    .groupBy(window(col(\"timestamp\"), \"1 hour\")) \\\n",
    "    .agg(\n",
    "        count(\"*\").alias(\"toot_count\"),\n",
    "        avg(length(col(\"content\"))).alias(\"avg_toot_length\")\n",
    "    )"
   ]
  },
  {
   "cell_type": "code",
   "execution_count": 28,
   "id": "e9119d59-2bc0-43ad-bd88-76e6a4e2b3d9",
   "metadata": {},
   "outputs": [],
   "source": [
    "# Action 1 : Compter les toots par fenêtre de temps\n",
    "# Action 2 : Calculer la longueur moyenne des toots par fenêtre de temps\n",
    "\n",
    "# Connexion à PostgreSQL\n",
    "postgres_url = \"jdbc:postgresql://localhost:5432/mastodon_data\"\n",
    "db_properties = {\n",
    "    \"user\": \"user\",\n",
    "    \"password\": \"password\",\n",
    "    \"driver\": \"org.postgresql.Driver\"\n",
    "}"
   ]
  },
  {
   "cell_type": "code",
   "execution_count": null,
   "id": "d0bd3da7-c7bd-4e74-a5c5-2489f47754ca",
   "metadata": {},
   "outputs": [],
   "source": [
    "# Sauvegarder les résultats dans PostgreSQL\n",
    "query = windowed_df.writeStream \\\n",
    "    .outputMode(\"update\") \\\n",
    "    .foreachBatch(lambda batch_df, batch_id: batch_df.write \\\n",
    "        .format(\"jdbc\") \\\n",
    "        .option(\"url\", postgres_url) \\\n",
    "        .option(\"dbtable\", \"toot_statistics\") \\\n",
    "        .options(**db_properties) \\\n",
    "        .mode(\"append\") \\\n",
    "        .save()) \\\n",
    "    .option(\"checkpointLocation\", \"/tmp/spark_checkpoints\") \\\n",
    "    .start()\n",
    "\n",
    "\n",
    "# Attendre la fin du traitement\n",
    "query.awaitTermination()"
   ]
  },
  {
   "cell_type": "code",
   "execution_count": null,
   "id": "89a9e69a-b7eb-4a1a-8792-de220eb52ad1",
   "metadata": {},
   "outputs": [],
   "source": []
  }
 ],
 "metadata": {
  "kernelspec": {
   "display_name": "Python 3 (ipykernel)",
   "language": "python",
   "name": "python3"
  },
  "language_info": {
   "codemirror_mode": {
    "name": "ipython",
    "version": 3
   },
   "file_extension": ".py",
   "mimetype": "text/x-python",
   "name": "python",
   "nbconvert_exporter": "python",
   "pygments_lexer": "ipython3",
   "version": "3.11.6"
  }
 },
 "nbformat": 4,
 "nbformat_minor": 5
}
