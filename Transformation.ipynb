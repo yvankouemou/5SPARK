{
 "cells": [
  {
   "cell_type": "code",
   "execution_count": 3,
   "id": "855fa478-c6b3-4df3-b4b6-28afe0937506",
   "metadata": {},
   "outputs": [
    {
     "name": "stdout",
     "output_type": "stream",
     "text": [
      "Collecting psycopg2-binary\n",
      "  Downloading psycopg2_binary-2.9.9-cp311-cp311-manylinux_2_17_x86_64.manylinux2014_x86_64.whl.metadata (4.4 kB)\n",
      "Downloading psycopg2_binary-2.9.9-cp311-cp311-manylinux_2_17_x86_64.manylinux2014_x86_64.whl (3.0 MB)\n",
      "\u001b[2K   \u001b[90m━━━━━━━━━━━━━━━━━━━━━━━━━━━━━━━━━━━━━━━━\u001b[0m \u001b[32m3.0/3.0 MB\u001b[0m \u001b[31m3.7 MB/s\u001b[0m eta \u001b[36m0:00:00\u001b[0m00:01\u001b[0m00:01\u001b[0m\n",
      "\u001b[?25hInstalling collected packages: psycopg2-binary\n",
      "Successfully installed psycopg2-binary-2.9.9\n",
      "Note: you may need to restart the kernel to use updated packages.\n"
     ]
    }
   ],
   "source": [
    "pip install psycopg2-binary"
   ]
  },
  {
   "cell_type": "code",
   "execution_count": null,
   "id": "54e47e17-6fc9-4ade-973d-4e5a27057d00",
   "metadata": {},
   "outputs": [
    {
     "name": "stdout",
     "output_type": "stream",
     "text": [
      "Création de SparkSession...\n",
      "SparkSession créée.\n",
      "Lecture du flux Kafka...\n",
      "Flux Kafka prêt.\n",
      "Parsing des données JSON...\n",
      "Parsing terminé.\n",
      "Extraction et transformation des données...\n",
      "Initialisation de la table mastodon dans PostgreSQL...\n",
      "Table mastodon initialisée avec succès dans PostgreSQL.\n",
      "Démarrage de l'écriture en streaming vers PostgreSQL...\n",
      "Affichage des fenêtres temporelles...\n",
      "Affichage de la longueur moyenne des pouets par utilisateur...\n"
     ]
    },
    {
     "name": "stderr",
     "output_type": "stream",
     "text": [
      "INFO:py4j.clientserver:Python Server ready to receive messages\n",
      "INFO:py4j.clientserver:Received command c on object id p1\n"
     ]
    },
    {
     "name": "stdout",
     "output_type": "stream",
     "text": [
      "Traitement du batch 0 pour upsert dans PostgreSQL...\n",
      "Batch 0 traité avec succès dans 'mastodon'.\n"
     ]
    },
    {
     "name": "stderr",
     "output_type": "stream",
     "text": [
      "INFO:py4j.clientserver:Received command c on object id p0\n",
      "INFO:py4j.clientserver:Received command c on object id p1\n"
     ]
    },
    {
     "name": "stdout",
     "output_type": "stream",
     "text": [
      "Traitement du batch 1 pour upsert dans PostgreSQL...\n",
      "Traitement du batch 20 pour upsert dans PostgreSQL...\n",
      "Batch 1 traité avec succès dans 'mastodon'.\n",
      "Batch 20 traité avec succès dans 'mastodon'.\n"
     ]
    },
    {
     "name": "stderr",
     "output_type": "stream",
     "text": [
      "INFO:py4j.clientserver:Received command c on object id p0\n",
      "INFO:py4j.clientserver:Received command c on object id p1\n"
     ]
    },
    {
     "name": "stdout",
     "output_type": "stream",
     "text": [
      "Traitement du batch 21 pour upsert dans PostgreSQL...\n",
      "Traitement du batch 2 pour upsert dans PostgreSQL...\n",
      "Batch 21 traité avec succès dans 'mastodon'.\n",
      "Batch 2 traité avec succès dans 'mastodon'.\n"
     ]
    },
    {
     "name": "stderr",
     "output_type": "stream",
     "text": [
      "INFO:py4j.clientserver:Received command c on object id p0\n",
      "INFO:py4j.clientserver:Received command c on object id p1\n"
     ]
    },
    {
     "name": "stdout",
     "output_type": "stream",
     "text": [
      "Traitement du batch 22 pour upsert dans PostgreSQL...\n",
      "Traitement du batch 3 pour upsert dans PostgreSQL...\n",
      "Batch 22 traité avec succès dans 'mastodon'.\n",
      "Batch 3 traité avec succès dans 'mastodon'.\n"
     ]
    },
    {
     "name": "stderr",
     "output_type": "stream",
     "text": [
      "INFO:py4j.clientserver:Received command c on object id p1\n",
      "INFO:py4j.clientserver:Received command c on object id p0\n"
     ]
    },
    {
     "name": "stdout",
     "output_type": "stream",
     "text": [
      "Traitement du batch 4 pour upsert dans PostgreSQL...\n",
      "Traitement du batch 23 pour upsert dans PostgreSQL...\n",
      "Batch 4 traité avec succès dans 'mastodon'.\n",
      "Batch 23 traité avec succès dans 'mastodon'.\n"
     ]
    },
    {
     "name": "stderr",
     "output_type": "stream",
     "text": [
      "INFO:py4j.clientserver:Received command c on object id p0\n",
      "INFO:py4j.clientserver:Received command c on object id p1\n"
     ]
    },
    {
     "name": "stdout",
     "output_type": "stream",
     "text": [
      "Traitement du batch 24 pour upsert dans PostgreSQL...\n",
      "Traitement du batch 5 pour upsert dans PostgreSQL...\n",
      "Batch 24 traité avec succès dans 'mastodon'.\n",
      "Batch 5 traité avec succès dans 'mastodon'.\n"
     ]
    },
    {
     "name": "stderr",
     "output_type": "stream",
     "text": [
      "INFO:py4j.clientserver:Received command c on object id p0\n",
      "INFO:py4j.clientserver:Received command c on object id p1\n"
     ]
    },
    {
     "name": "stdout",
     "output_type": "stream",
     "text": [
      "Traitement du batch 25 pour upsert dans PostgreSQL...\n",
      "Traitement du batch 6 pour upsert dans PostgreSQL...\n",
      "Batch 6 traité avec succès dans 'mastodon'.\n",
      "Batch 25 traité avec succès dans 'mastodon'.\n"
     ]
    },
    {
     "name": "stderr",
     "output_type": "stream",
     "text": [
      "INFO:py4j.clientserver:Received command c on object id p1\n",
      "INFO:py4j.clientserver:Received command c on object id p0\n"
     ]
    },
    {
     "name": "stdout",
     "output_type": "stream",
     "text": [
      "Traitement du batch 7 pour upsert dans PostgreSQL...\n",
      "Traitement du batch 26 pour upsert dans PostgreSQL...\n",
      "Batch 7 traité avec succès dans 'mastodon'.\n",
      "Batch 26 traité avec succès dans 'mastodon'.\n"
     ]
    },
    {
     "name": "stderr",
     "output_type": "stream",
     "text": [
      "INFO:py4j.clientserver:Received command c on object id p1\n",
      "INFO:py4j.clientserver:Received command c on object id p0\n"
     ]
    },
    {
     "name": "stdout",
     "output_type": "stream",
     "text": [
      "Traitement du batch 8 pour upsert dans PostgreSQL...\n",
      "Traitement du batch 27 pour upsert dans PostgreSQL...\n",
      "Batch 8 traité avec succès dans 'mastodon'.\n",
      "Batch 27 traité avec succès dans 'mastodon'.\n"
     ]
    },
    {
     "name": "stderr",
     "output_type": "stream",
     "text": [
      "INFO:py4j.clientserver:Received command c on object id p0\n",
      "INFO:py4j.clientserver:Received command c on object id p1\n"
     ]
    },
    {
     "name": "stdout",
     "output_type": "stream",
     "text": [
      "Traitement du batch 28 pour upsert dans PostgreSQL...\n",
      "Traitement du batch 9 pour upsert dans PostgreSQL...\n",
      "Batch 28 traité avec succès dans 'mastodon'.\n",
      "Batch 9 traité avec succès dans 'mastodon'.\n"
     ]
    },
    {
     "name": "stderr",
     "output_type": "stream",
     "text": [
      "INFO:py4j.clientserver:Received command c on object id p0\n",
      "INFO:py4j.clientserver:Received command c on object id p1\n"
     ]
    },
    {
     "name": "stdout",
     "output_type": "stream",
     "text": [
      "Traitement du batch 29 pour upsert dans PostgreSQL...\n",
      "Traitement du batch 10 pour upsert dans PostgreSQL...\n",
      "Batch 29 traité avec succès dans 'mastodon'.\n",
      "Batch 10 traité avec succès dans 'mastodon'.\n"
     ]
    },
    {
     "name": "stderr",
     "output_type": "stream",
     "text": [
      "INFO:py4j.clientserver:Received command c on object id p1\n",
      "INFO:py4j.clientserver:Received command c on object id p0\n"
     ]
    },
    {
     "name": "stdout",
     "output_type": "stream",
     "text": [
      "Traitement du batch 11 pour upsert dans PostgreSQL...\n",
      "Traitement du batch 30 pour upsert dans PostgreSQL...\n",
      "Batch 11 traité avec succès dans 'mastodon'.\n",
      "Batch 30 traité avec succès dans 'mastodon'.\n"
     ]
    },
    {
     "name": "stderr",
     "output_type": "stream",
     "text": [
      "INFO:py4j.clientserver:Received command c on object id p1\n",
      "INFO:py4j.clientserver:Received command c on object id p0\n"
     ]
    },
    {
     "name": "stdout",
     "output_type": "stream",
     "text": [
      "Traitement du batch 12 pour upsert dans PostgreSQL...\n",
      "Traitement du batch 31 pour upsert dans PostgreSQL...\n",
      "Batch 12 traité avec succès dans 'mastodon'.\n",
      "Batch 31 traité avec succès dans 'mastodon'.\n"
     ]
    },
    {
     "name": "stderr",
     "output_type": "stream",
     "text": [
      "INFO:py4j.clientserver:Received command c on object id p0\n",
      "INFO:py4j.clientserver:Received command c on object id p1\n"
     ]
    },
    {
     "name": "stdout",
     "output_type": "stream",
     "text": [
      "Traitement du batch 32 pour upsert dans PostgreSQL...\n",
      "Traitement du batch 13 pour upsert dans PostgreSQL...\n",
      "Batch 32 traité avec succès dans 'mastodon'.\n",
      "Batch 13 traité avec succès dans 'mastodon'.\n"
     ]
    },
    {
     "name": "stderr",
     "output_type": "stream",
     "text": [
      "INFO:py4j.clientserver:Received command c on object id p1\n",
      "INFO:py4j.clientserver:Received command c on object id p0\n"
     ]
    },
    {
     "name": "stdout",
     "output_type": "stream",
     "text": [
      "Traitement du batch 14 pour upsert dans PostgreSQL...\n",
      "Traitement du batch 33 pour upsert dans PostgreSQL...\n",
      "Batch 14 traité avec succès dans 'mastodon'.\n",
      "Batch 33 traité avec succès dans 'mastodon'.\n"
     ]
    },
    {
     "name": "stderr",
     "output_type": "stream",
     "text": [
      "INFO:py4j.clientserver:Received command c on object id p0\n",
      "INFO:py4j.clientserver:Received command c on object id p1\n"
     ]
    },
    {
     "name": "stdout",
     "output_type": "stream",
     "text": [
      "Traitement du batch 34 pour upsert dans PostgreSQL...\n",
      "Traitement du batch 15 pour upsert dans PostgreSQL...\n",
      "Batch 34 traité avec succès dans 'mastodon'.\n",
      "Batch 15 traité avec succès dans 'mastodon'.\n"
     ]
    },
    {
     "name": "stderr",
     "output_type": "stream",
     "text": [
      "INFO:py4j.clientserver:Received command c on object id p1\n",
      "INFO:py4j.clientserver:Received command c on object id p0\n"
     ]
    },
    {
     "name": "stdout",
     "output_type": "stream",
     "text": [
      "Traitement du batch 16 pour upsert dans PostgreSQL...\n",
      "Traitement du batch 35 pour upsert dans PostgreSQL...\n",
      "Batch 35 traité avec succès dans 'mastodon'.\n",
      "Batch 16 traité avec succès dans 'mastodon'.\n"
     ]
    },
    {
     "name": "stderr",
     "output_type": "stream",
     "text": [
      "INFO:py4j.clientserver:Received command c on object id p0\n",
      "INFO:py4j.clientserver:Received command c on object id p1\n"
     ]
    },
    {
     "name": "stdout",
     "output_type": "stream",
     "text": [
      "Traitement du batch 36 pour upsert dans PostgreSQL...\n",
      "Traitement du batch 17 pour upsert dans PostgreSQL...\n",
      "Batch 17 traité avec succès dans 'mastodon'.\n",
      "Batch 36 traité avec succès dans 'mastodon'.\n"
     ]
    },
    {
     "name": "stderr",
     "output_type": "stream",
     "text": [
      "INFO:py4j.clientserver:Received command c on object id p1\n",
      "INFO:py4j.clientserver:Received command c on object id p0\n"
     ]
    },
    {
     "name": "stdout",
     "output_type": "stream",
     "text": [
      "Traitement du batch 18 pour upsert dans PostgreSQL...\n",
      "Traitement du batch 37 pour upsert dans PostgreSQL...\n",
      "Batch 18 traité avec succès dans 'mastodon'.\n",
      "Batch 37 traité avec succès dans 'mastodon'.\n"
     ]
    },
    {
     "name": "stderr",
     "output_type": "stream",
     "text": [
      "INFO:py4j.clientserver:Received command c on object id p1\n",
      "INFO:py4j.clientserver:Received command c on object id p0\n"
     ]
    },
    {
     "name": "stdout",
     "output_type": "stream",
     "text": [
      "Traitement du batch 19 pour upsert dans PostgreSQL...Traitement du batch 38 pour upsert dans PostgreSQL...\n",
      "\n",
      "Batch 19 traité avec succès dans 'mastodon'.\n",
      "Batch 38 traité avec succès dans 'mastodon'.\n"
     ]
    },
    {
     "name": "stderr",
     "output_type": "stream",
     "text": [
      "INFO:py4j.clientserver:Received command c on object id p0\n",
      "INFO:py4j.clientserver:Received command c on object id p1\n"
     ]
    },
    {
     "name": "stdout",
     "output_type": "stream",
     "text": [
      "Traitement du batch 39 pour upsert dans PostgreSQL...\n",
      "Traitement du batch 20 pour upsert dans PostgreSQL...\n",
      "Batch 39 traité avec succès dans 'mastodon'.\n",
      "Batch 20 traité avec succès dans 'mastodon'.\n"
     ]
    },
    {
     "name": "stderr",
     "output_type": "stream",
     "text": [
      "INFO:py4j.clientserver:Received command c on object id p1\n",
      "INFO:py4j.clientserver:Received command c on object id p0\n"
     ]
    },
    {
     "name": "stdout",
     "output_type": "stream",
     "text": [
      "Traitement du batch 21 pour upsert dans PostgreSQL...\n",
      "Traitement du batch 40 pour upsert dans PostgreSQL...\n",
      "Batch 21 traité avec succès dans 'mastodon'.\n",
      "Batch 40 traité avec succès dans 'mastodon'.\n"
     ]
    },
    {
     "name": "stderr",
     "output_type": "stream",
     "text": [
      "INFO:py4j.clientserver:Received command c on object id p0\n",
      "INFO:py4j.clientserver:Received command c on object id p1\n"
     ]
    },
    {
     "name": "stdout",
     "output_type": "stream",
     "text": [
      "Traitement du batch 41 pour upsert dans PostgreSQL...\n",
      "Traitement du batch 22 pour upsert dans PostgreSQL...\n",
      "Batch 41 traité avec succès dans 'mastodon'.\n",
      "Batch 22 traité avec succès dans 'mastodon'.\n"
     ]
    },
    {
     "name": "stderr",
     "output_type": "stream",
     "text": [
      "INFO:py4j.clientserver:Received command c on object id p1\n",
      "INFO:py4j.clientserver:Received command c on object id p0\n"
     ]
    },
    {
     "name": "stdout",
     "output_type": "stream",
     "text": [
      "Traitement du batch 23 pour upsert dans PostgreSQL...\n",
      "Traitement du batch 42 pour upsert dans PostgreSQL...\n",
      "Batch 23 traité avec succès dans 'mastodon'.\n",
      "Batch 42 traité avec succès dans 'mastodon'.\n"
     ]
    },
    {
     "name": "stderr",
     "output_type": "stream",
     "text": [
      "INFO:py4j.clientserver:Received command c on object id p1\n",
      "INFO:py4j.clientserver:Received command c on object id p0\n"
     ]
    },
    {
     "name": "stdout",
     "output_type": "stream",
     "text": [
      "Traitement du batch 24 pour upsert dans PostgreSQL...\n",
      "Traitement du batch 43 pour upsert dans PostgreSQL...\n",
      "Batch 24 traité avec succès dans 'mastodon'.\n",
      "Batch 43 traité avec succès dans 'mastodon'.\n"
     ]
    },
    {
     "name": "stderr",
     "output_type": "stream",
     "text": [
      "INFO:py4j.clientserver:Received command c on object id p1\n",
      "INFO:py4j.clientserver:Received command c on object id p0\n"
     ]
    },
    {
     "name": "stdout",
     "output_type": "stream",
     "text": [
      "Traitement du batch 25 pour upsert dans PostgreSQL...\n",
      "Traitement du batch 44 pour upsert dans PostgreSQL...\n",
      "Batch 25 traité avec succès dans 'mastodon'.\n",
      "Batch 44 traité avec succès dans 'mastodon'.\n"
     ]
    },
    {
     "name": "stderr",
     "output_type": "stream",
     "text": [
      "INFO:py4j.clientserver:Received command c on object id p0\n",
      "INFO:py4j.clientserver:Received command c on object id p1\n"
     ]
    },
    {
     "name": "stdout",
     "output_type": "stream",
     "text": [
      "Traitement du batch 45 pour upsert dans PostgreSQL...\n",
      "Traitement du batch 26 pour upsert dans PostgreSQL...\n",
      "Batch 45 traité avec succès dans 'mastodon'.\n",
      "Batch 26 traité avec succès dans 'mastodon'.\n"
     ]
    },
    {
     "name": "stderr",
     "output_type": "stream",
     "text": [
      "INFO:py4j.clientserver:Received command c on object id p1\n",
      "INFO:py4j.clientserver:Received command c on object id p0\n"
     ]
    },
    {
     "name": "stdout",
     "output_type": "stream",
     "text": [
      "Traitement du batch 27 pour upsert dans PostgreSQL...\n",
      "Traitement du batch 46 pour upsert dans PostgreSQL...\n",
      "Batch 27 traité avec succès dans 'mastodon'.\n",
      "Batch 46 traité avec succès dans 'mastodon'.\n"
     ]
    },
    {
     "name": "stderr",
     "output_type": "stream",
     "text": [
      "INFO:py4j.clientserver:Received command c on object id p1\n",
      "INFO:py4j.clientserver:Received command c on object id p0\n"
     ]
    },
    {
     "name": "stdout",
     "output_type": "stream",
     "text": [
      "Traitement du batch 28 pour upsert dans PostgreSQL...\n",
      "Traitement du batch 47 pour upsert dans PostgreSQL...\n",
      "Batch 28 traité avec succès dans 'mastodon'.\n",
      "Batch 47 traité avec succès dans 'mastodon'.\n"
     ]
    },
    {
     "name": "stderr",
     "output_type": "stream",
     "text": [
      "INFO:py4j.clientserver:Received command c on object id p1\n",
      "INFO:py4j.clientserver:Received command c on object id p0\n"
     ]
    },
    {
     "name": "stdout",
     "output_type": "stream",
     "text": [
      "Traitement du batch 48 pour upsert dans PostgreSQL...\n",
      "Traitement du batch 29 pour upsert dans PostgreSQL...\n",
      "Batch 29 traité avec succès dans 'mastodon'.\n",
      "Batch 48 traité avec succès dans 'mastodon'.\n"
     ]
    },
    {
     "name": "stderr",
     "output_type": "stream",
     "text": [
      "INFO:py4j.clientserver:Received command c on object id p0\n",
      "INFO:py4j.clientserver:Received command c on object id p1\n"
     ]
    },
    {
     "name": "stdout",
     "output_type": "stream",
     "text": [
      "Traitement du batch 49 pour upsert dans PostgreSQL...\n",
      "Traitement du batch 30 pour upsert dans PostgreSQL...\n",
      "Batch 49 traité avec succès dans 'mastodon'.\n",
      "Batch 30 traité avec succès dans 'mastodon'.\n"
     ]
    }
   ],
   "source": [
    "import logging\n",
    "from pyspark.sql import SparkSession\n",
    "from pyspark.sql.types import (\n",
    "    StructType, StructField, StringType, TimestampType, IntegerType, ArrayType\n",
    ")\n",
    "from pyspark.sql.functions import from_json, col, lower, regexp_replace, window, length, avg\n",
    "import psycopg2\n",
    "\n",
    "# Configurer le logging\n",
    "logging.basicConfig(level=logging.INFO)\n",
    "\n",
    "\n",
    "# Configurer SparkSession\n",
    "print(\"Création de SparkSession...\")\n",
    "spark = SparkSession.builder \\\n",
    "    .appName(\"MastodonUserStreaming\") \\\n",
    "    .config(\n",
    "    \"spark.jars.packages\",\n",
    "    \"org.apache.spark:spark-sql-kafka-0-10_2.12:3.4.0,\"\n",
    "    \"org.postgresql:postgresql:42.2.25\"\n",
    ") \\\n",
    "    .getOrCreate()\n",
    "print(\"SparkSession créée.\")\n",
    "\n",
    "# Paramètres Kafka\n",
    "kafka_brokers = \"kafka:9093\"\n",
    "topic_name = \"message_kafka\"\n",
    "\n",
    "print(\"Lecture du flux Kafka...\")\n",
    "# Lecture du flux Kafka\n",
    "kafka_stream = spark.readStream \\\n",
    "    .format(\"kafka\") \\\n",
    "    .option(\"kafka.bootstrap.servers\", kafka_brokers) \\\n",
    "    .option(\"subscribe\", topic_name) \\\n",
    "    .option(\"startingOffsets\", \"earliest\") \\\n",
    "    .load()\n",
    "print(\"Flux Kafka prêt.\")\n",
    "\n",
    "# Schéma pour les données JSON\n",
    "schema = StructType([\n",
    "    StructField(\"id\", StringType(), True),\n",
    "    StructField(\"user\", StringType(), True),\n",
    "    StructField(\"user_id\", StringType(), True),\n",
    "    StructField(\"followers_count\", IntegerType(), True),\n",
    "    StructField(\"timestamp\", StringType(), True),\n",
    "    StructField(\"content\", StringType(), True),\n",
    "    StructField(\"language\", StringType(), True),\n",
    "    StructField(\"hashtags\", ArrayType(StringType()), True),\n",
    "    StructField(\"favourites_count\", IntegerType(), True),\n",
    "    StructField(\"reblogs_count\", IntegerType(), True)\n",
    "])\n",
    "\n",
    "# Parser les données JSON\n",
    "print(\"Parsing des données JSON...\")\n",
    "json_stream = kafka_stream.selectExpr(\"CAST(value AS STRING) as json_value\")\n",
    "parsed_stream = json_stream.select(from_json(col(\"json_value\"), schema).alias(\"data\")).select(\"data.*\")\n",
    "print(\"Parsing terminé.\")\n",
    "\n",
    "# Extraction et transformation des données\n",
    "print(\"Extraction et transformation des données...\")\n",
    "# Nettoyage du contenu du toot\n",
    "processed_stream = parsed_stream.withColumn(\"content\", regexp_replace(col(\"content\"), r\"<[^>]+>\", \"\"))\n",
    "\n",
    "# Filtrer par langue (par exemple, français)\n",
    "filtered_stream = processed_stream.filter(col(\"language\") == \"fr\")\n",
    "\n",
    "\n",
    "# Préparation des données utilisateurs, y compris le texte\n",
    "users_data = filtered_stream.select(\n",
    "    col(\"id\"),\n",
    "    col(\"user_id\"),\n",
    "    col(\"user\"),\n",
    "    col(\"followers_count\"),\n",
    "    col(\"timestamp\"),\n",
    "    col(\"content\"),\n",
    "    col(\"language\"),\n",
    "    col(\"hashtags\"),\n",
    "    col(\"favourites_count\"),\n",
    "    col(\"reblogs_count\"),\n",
    ")\n",
    "\n",
    "# Filtrer les enregistrements où user_id est NULL\n",
    "users_data = users_data.filter(col(\"user\").isNotNull())\n",
    "\n",
    "# Fenêtres temporelles\n",
    "windowed_stream = users_data.groupBy(\n",
    "    window(col(\"timestamp\"), \"1 hour\")  # Fenêtre d'une heure\n",
    ").count()\n",
    "\n",
    "# Calcul de la longueur moyenne des pouets par utilisateur\n",
    "length_avg_by_user = users_data.withColumn(\"content_length\", length(col(\"content\"))) \\\n",
    "    .groupBy(\"user\").agg(avg(\"content_length\").alias(\"avg_length\"))\n",
    "\n",
    "\n",
    "# Paramètres de connexion à PostgreSQL\n",
    "db_host = \"projetfinal5spar-postgres-1\"\n",
    "db_port = \"5432\"\n",
    "db_name = \"mastodon_data\"\n",
    "db_user = \"user\"\n",
    "db_password = \"password\"\n",
    "db_url = f\"jdbc:postgresql://{db_host}:{db_port}/{db_name}\"\n",
    "db_properties = {\n",
    "    \"user\": db_user,\n",
    "    \"password\": db_password,\n",
    "    \"driver\": \"org.postgresql.Driver\"\n",
    "}\n",
    "\n",
    "\n",
    "# Fonction pour initialiser la table mastodon dans PostgreSQL\n",
    "def initialize_mastodon_table():\n",
    "    print(\"Initialisation de la table mastodon dans PostgreSQL...\")\n",
    "    try:\n",
    "        conn = psycopg2.connect(\n",
    "            dbname=db_name,\n",
    "            user=db_properties[\"user\"],\n",
    "            password=db_properties[\"password\"],\n",
    "            host=db_host,\n",
    "            port=db_port\n",
    "        )\n",
    "        conn.autocommit = True\n",
    "        cursor = conn.cursor()\n",
    "\n",
    "        create_table_sql = \"\"\"\n",
    "        CREATE TABLE IF NOT EXISTS mastodon (\n",
    "            \"id\" VARCHAR(255),\n",
    "            \"user_id\" VARCHAR(255),\n",
    "            \"user\" VARCHAR(255),\n",
    "            \"followers_count\" INT,\n",
    "            timestamp TIMESTAMP,\n",
    "            content TEXT,\n",
    "            language VARCHAR(10),\n",
    "            hashtags TEXT[],\n",
    "            favourites_count INT,\n",
    "            reblogs_count INT,\n",
    "            PRIMARY KEY (\"id\")\n",
    "        );\n",
    "        \"\"\"\n",
    "\n",
    "        cursor.execute(create_table_sql)\n",
    "        print(\"Table mastodon initialisée avec succès dans PostgreSQL.\")\n",
    "\n",
    "        # Ajout d'une contrainte d'unicité si nécessaire\n",
    "        cursor.execute(\"\"\"\n",
    "        ALTER TABLE mastodon ADD CONSTRAINT unique_mastodon UNIQUE (\"id\");\n",
    "        \"\"\")\n",
    "\n",
    "        cursor.close()\n",
    "        conn.close()\n",
    "\n",
    "    except Exception as e:\n",
    "        logging.error(f\"Erreur lors de l'initialisation de la table mastodon dans PostgreSQL: {e}\")\n",
    "        print(f\"Erreur lors de l'initialisation de la table mastodon: {e}\")\n",
    "\n",
    "\n",
    "# Initialiser la table mastodon\n",
    "initialize_mastodon_table()\n",
    "\n",
    "\n",
    "# Fonction pour réaliser un upsert dans PostgreSQL en utilisant INSERT ... ON CONFLICT DO UPDATE\n",
    "def upsert_to_postgresql(dataframe, batch_id):\n",
    "    print(f\"Traitement du batch {batch_id} pour upsert dans PostgreSQL...\")\n",
    "    try:\n",
    "        # Convertir le DataFrame Spark en DataFrame Pandas\n",
    "        pandas_df = dataframe.toPandas()\n",
    "\n",
    "        # Connexion à PostgreSQL\n",
    "        conn = psycopg2.connect(\n",
    "            dbname=db_name,\n",
    "            user=db_properties[\"user\"],\n",
    "            password=db_properties[\"password\"],\n",
    "            host=db_host,\n",
    "            port=db_port\n",
    "        )\n",
    "        conn.autocommit = True\n",
    "        cursor = conn.cursor()\n",
    "\n",
    "        # Requête d'upsert\n",
    "        for _, row in pandas_df.iterrows():\n",
    "            cursor.execute(\"\"\"\n",
    "                INSERT INTO mastodon (id, user_id, \"user\", followers_count, timestamp, content, language, hashtags, favourites_count, reblogs_count)\n",
    "                VALUES (%s, %s, %s, %s, %s, %s, %s, %s, %s, %s)\n",
    "                ON CONFLICT (\"id\") DO UPDATE SET\n",
    "                \"user_id\" = EXCLUDED.\"user_id\",\n",
    "                \"user\" = EXCLUDED.\"user\",\n",
    "                followers_count = EXCLUDED.\"followers_count\",\n",
    "                timestamp = EXCLUDED.timestamp,\n",
    "                content = EXCLUDED.content,\n",
    "                language = EXCLUDED.language,\n",
    "                hashtags = EXCLUDED.hashtags,\n",
    "                favourites_count = EXCLUDED.favourites_count,\n",
    "                reblogs_count = EXCLUDED.reblogs_count\n",
    "            \"\"\", (\n",
    "                row['id'],\n",
    "                row['user_id'],\n",
    "                row['user'],\n",
    "                row['followers_count'],\n",
    "                row['timestamp'],\n",
    "                row['content'],\n",
    "                row['language'],\n",
    "                row['hashtags'],\n",
    "                row['favourites_count'],\n",
    "                row['reblogs_count']\n",
    "            ))\n",
    "\n",
    "        print(f\"Batch {batch_id} traité avec succès dans 'mastodon'.\")\n",
    "\n",
    "        cursor.close()\n",
    "        conn.close()\n",
    "\n",
    "    except Exception as e:\n",
    "        logging.error(f\"Erreur lors de l'upsert dans 'mastodon' : {e}\")\n",
    "        print(f\"Erreur lors de l'upsert dans 'mastodon' : {e}\")\n",
    "\n",
    "\n",
    "# Écriture en streaming\n",
    "print(\"Démarrage de l'écriture en streaming vers PostgreSQL...\")\n",
    "streaming_query = users_data.writeStream \\\n",
    "    .outputMode(\"append\") \\\n",
    "    .foreachBatch(upsert_to_postgresql) \\\n",
    "    .start()\n",
    "\n",
    "# Afficher les fenêtres temporelles sur la console\n",
    "print(\"Affichage des fenêtres temporelles...\")\n",
    "windowed_stream_query = windowed_stream.writeStream \\\n",
    "    .outputMode(\"complete\") \\\n",
    "    .format(\"console\") \\\n",
    "    .start()\n",
    "\n",
    "# Afficher la longueur moyenne des pouets par utilisateur\n",
    "print(\"Affichage de la longueur moyenne des pouets par utilisateur...\")\n",
    "length_avg_by_user_query = length_avg_by_user.writeStream \\\n",
    "    .outputMode(\"complete\") \\\n",
    "    .format(\"console\") \\\n",
    "    .start()\n",
    "\n",
    "# Attendre la fin du streaming\n",
    "streaming_query.awaitTermination()\n",
    "print(\"Streaming terminé.\")\n",
    "\n",
    "print(\"Résultat des statistiques.\")\n",
    "windowed_stream_query.awaitTermination()\n",
    "length_avg_by_user_query.awaitTermination()"
   ]
  },
  {
   "cell_type": "code",
   "execution_count": null,
   "id": "6b6c6cd7-7d69-4011-b8f0-2c457e375795",
   "metadata": {},
   "outputs": [],
   "source": []
  }
 ],
 "metadata": {
  "kernelspec": {
   "display_name": "Python 3 (ipykernel)",
   "language": "python",
   "name": "python3"
  },
  "language_info": {
   "codemirror_mode": {
    "name": "ipython",
    "version": 3
   },
   "file_extension": ".py",
   "mimetype": "text/x-python",
   "name": "python",
   "nbconvert_exporter": "python",
   "pygments_lexer": "ipython3",
   "version": "3.11.6"
  }
 },
 "nbformat": 4,
 "nbformat_minor": 5
}
